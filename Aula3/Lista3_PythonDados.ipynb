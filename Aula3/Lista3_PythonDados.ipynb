{
  "cells": [
    {
      "cell_type": "markdown",
      "metadata": {
        "id": "Dk0CXOwFpKzP"
      },
      "source": [
        "## Exercicio 1\n",
        "1. Crie um código para imprimir a soma dos elementos de cada uma das listas contidas na seguinte lista:\n",
        "\n",
        "lista_de_listas = [[4,6,5,9], [1,0,7,2], [3,4,1,8]]"
      ]
    },
    {
      "cell_type": "code",
      "execution_count": null,
      "metadata": {
        "colab": {
          "base_uri": "https://localhost:8080/"
        },
        "id": "KWH3yq8Zm3A0",
        "outputId": "ac40b459-aefc-48bf-ae50-d19e813b1443"
      },
      "outputs": [
        {
          "name": "stdout",
          "output_type": "stream",
          "text": [
            "24\n",
            "10\n",
            "16\n"
          ]
        }
      ],
      "source": [
        "lista_de_listas = [[4,6,5,9], [1,0,7,2], [3,4,1,8]]\n",
        "for lista in lista_de_listas:\n",
        "    print(sum(lista))"
      ]
    },
    {
      "cell_type": "markdown",
      "metadata": {
        "id": "6WMtvbffrO5M"
      },
      "source": [
        "## Exercicio 2\n",
        "2. Crie um código para gerar uma lista que armazena o terceiro elemento de cada tupla contida na seguinte lista de tuplas:\n",
        "\n",
        "lista_de_tuplas = [('Pedro', 1.74, 81), ('Júlia', 1.65, 67), ('Otávio', 1.81, 83)]"
      ]
    },
    {
      "cell_type": "code",
      "execution_count": null,
      "metadata": {
        "colab": {
          "base_uri": "https://localhost:8080/"
        },
        "id": "OXZOfRThsB13",
        "outputId": "00cad0c2-fa1c-4c9d-ba5d-df458560230f"
      },
      "outputs": [
        {
          "name": "stdout",
          "output_type": "stream",
          "text": [
            "[81, 67, 83]\n"
          ]
        }
      ],
      "source": [
        "lista_de_tuplas = [('Pedro', 1.74, 81), ('Júlia', 1.65, 67), ('Otávio', 1.81, 83)]\n",
        "lista = []\n",
        "for tupla in lista_de_tuplas:\n",
        "    lista.append(tupla[2])\n",
        "print(lista)"
      ]
    },
    {
      "cell_type": "markdown",
      "metadata": {
        "id": "GFwZ3nQwsPTA"
      },
      "source": [
        "## Exercicio 3\n",
        "3. A partir da lista: lista = ['Pedro', 'Júlia', 'Otávio', 'Eduardo'], crie um código para gerar uma lista de tuplas em que cada tupla tenha o primeiro elemento como a posição do nome na lista original e o segundo elemento sendo o próprio nome."
      ]
    },
    {
      "cell_type": "code",
      "execution_count": null,
      "metadata": {
        "colab": {
          "base_uri": "https://localhost:8080/"
        },
        "id": "RF1jOcbWvhJn",
        "outputId": "7066cac3-3dfa-46f4-dc79-0651a5edf91d"
      },
      "outputs": [
        {
          "name": "stdout",
          "output_type": "stream",
          "text": [
            "[(0, 'Pedro'), (1, 'Júlia'), (2, 'Otávio'), (3, 'Eduardo')]\n"
          ]
        }
      ],
      "source": [
        "lista = ['Pedro', 'Júlia', 'Otávio', 'Eduardo']\n",
        "lista_de_tuplas = []\n",
        "for i in range(len(lista)):\n",
        "    lista_de_tuplas.append((i, lista[i]))\n",
        "print(lista_de_tuplas)"
      ]
    },
    {
      "cell_type": "markdown",
      "metadata": {
        "id": "pRF4eNAq1lE6"
      },
      "source": [
        "## Exercicio 4\n",
        "4. Crie uma lista usando o list comprehension que armazena somente o valor numérico de cada tupla caso o primeiro elemento seja 'Apartamento', a partir da seguinte lista de tuplas:\n",
        "\n",
        "aluguel = [('Apartamento', 1700), ('Apartamento', 1400), ('Casa', 2150), ('Apartamento', 1900), ('Casa', 1100)]\n"
      ]
    },
    {
      "cell_type": "code",
      "execution_count": null,
      "metadata": {
        "colab": {
          "base_uri": "https://localhost:8080/"
        },
        "id": "6hhG_mtm11Ni",
        "outputId": "6f4e9630-c6be-48c4-9162-0f807b7d3c02"
      },
      "outputs": [
        {
          "name": "stdout",
          "output_type": "stream",
          "text": [
            "[1700, 1400, 1900]\n"
          ]
        }
      ],
      "source": [
        "aluguel = [('Apartamento', 1700), ('Apartamento', 1400), ('Casa', 2150), ('Apartamento', 1900), ('Casa', 1100)]\n",
        "lista = [tupla[1] for tupla in aluguel if tupla[0]== 'Apartamento']\n",
        "print(lista)\n"
      ]
    },
    {
      "cell_type": "markdown",
      "metadata": {
        "id": "Tto74PQz3gks"
      },
      "source": [
        "##Exercicio 5\n",
        "5. Crie um dicionário usando o dict comprehension em que as chaves estão na lista meses = ['Jan', 'Fev', 'Mar', 'Abr', 'Mai', 'Jun', 'Jul', 'Ago', 'Set', 'Out', 'Nov', 'Dez'] e os valores estão em despesa = [860, 490, 1010, 780, 900, 630, 590, 770, 620, 560, 840, 360]."
      ]
    },
    {
      "cell_type": "code",
      "execution_count": null,
      "metadata": {
        "colab": {
          "base_uri": "https://localhost:8080/"
        },
        "id": "827M1oL33o35",
        "outputId": "69a8d332-2114-4c1c-bfd4-17c7d85417d9"
      },
      "outputs": [
        {
          "name": "stdout",
          "output_type": "stream",
          "text": [
            "{'Jan': 860, 'Fev': 490, 'Mar': 1010, 'Abr': 780, 'Mai': 900, 'Jun': 630, 'Jul': 590, 'Ago': 770, 'Set': 620, 'Out': 560, 'Nov': 840, 'Dez': 360}\n"
          ]
        }
      ],
      "source": [
        "meses = ['Jan', 'Fev', 'Mar', 'Abr', 'Mai', 'Jun', 'Jul', 'Ago', 'Set', 'Out', 'Nov', 'Dez']\n",
        "despesa = [860, 490, 1010, 780, 900, 630, 590, 770, 620, 560, 840, 360]\n",
        "dicionario = {meses[i]: despesa[i] for i in range(len(meses))}\n",
        "print(dicionario)"
      ]
    },
    {
      "cell_type": "markdown",
      "metadata": {
        "id": "uE7UT-QH9C3s"
      },
      "source": [
        "## Exercicio 6\n",
        "\n",
        "6. Uma loja possui um banco de dados com a informação de venda de cada representante e de cada ano e precisa filtrar somente os dados do ano 2022 com venda maior do que 6000. A loja forneceu uma amostra contendo apenas as colunas com os anos e os valores de venda para que você ajude a realizar a filtragem dos dados a partir de um código:\n",
        "\n",
        "vendas = [('2023', 4093), ('2021', 4320), ('2021', 5959), ('2022', 8883), ('2023', 9859), ('2022', 5141), ('2022', 7688), ('2022', 9544), ('2023', 4794), ('2021', 7178), ('2022', 3030), ('2021', 7471), ('2022', 4226), ('2022', 8190), ('2021', 9680), ('2022', 5616)]"
      ]
    },
    {
      "cell_type": "code",
      "execution_count": null,
      "metadata": {
        "colab": {
          "base_uri": "https://localhost:8080/"
        },
        "id": "vw7DqD2j9Nui",
        "outputId": "5c0aff8e-314d-4ed3-fea5-8112f776bf47"
      },
      "outputs": [
        {
          "name": "stdout",
          "output_type": "stream",
          "text": [
            "[8883, 7688, 9544, 8190]\n"
          ]
        }
      ],
      "source": [
        "vendas = [('2023', 4093), ('2021', 4320), ('2021', 5959), ('2022', 8883), ('2023', 9859), ('2022', 5141), ('2022', 7688), ('2022', 9544), ('2023', 4794), ('2021', 7178), ('2022', 3030), ('2021', 7471), ('2022', 4226), ('2022', 8190), ('2021', 9680), ('2022', 5616)]\n",
        "filtro = [tupla[1] for tupla in vendas if tupla[0] == '2022' and tupla[1] > 6000]\n",
        "print(filtro)\n"
      ]
    },
    {
      "cell_type": "markdown",
      "metadata": {
        "id": "fA24-v3KAcFd"
      },
      "source": [
        "## Exercicio 7\n",
        "7. Uma clínica analisa dados de pacientes e armazena o valor numérico da glicose em um banco de dados e gostaria de rotular os dados da seguinte maneira:\n",
        "\n",
        "*   Glicose igual ou inferior a 70: 'Hipoglicemia'\n",
        "*   Glicose entre 70 a 99: 'Normal'\n",
        "*   Glicose entre 100 e 125: 'Alterada'\n",
        "*   Glicose superior a 125: 'Diabetes'\n",
        "\n",
        "A clínica disponibilizou parte dos valores e sua tarefa é criar uma lista de tuplas usando list comprehension contendo o rótulo e o valor da glicemia em cada tupla.\n",
        "\n",
        "glicemia = [129, 82, 60, 97, 101, 65, 62, 167, 87, 53, 58, 92, 66, 120, 109, 62, 86, 96, 103, 88, 155, 52, 89, 73]\n"
      ]
    },
    {
      "cell_type": "code",
      "execution_count": 2,
      "metadata": {
        "colab": {
          "base_uri": "https://localhost:8080/"
        },
        "id": "jrVVal5rRzCv",
        "outputId": "abdff124-6966-42c9-c646-687a4494c9b4"
      },
      "outputs": [
        {
          "name": "stdout",
          "output_type": "stream",
          "text": [
            "[('Diabetes', 129), ('Normal', 82), ('Hipoglicemia', 60), ('Normal', 97), ('Alterada', 101), ('Hipoglicemia', 65), ('Hipoglicemia', 62), ('Diabetes', 167), ('Normal', 87), ('Hipoglicemia', 53), ('Hipoglicemia', 58), ('Normal', 92), ('Hipoglicemia', 66), ('Alterada', 120), ('Alterada', 109), ('Hipoglicemia', 62), ('Normal', 86), ('Normal', 96), ('Alterada', 103), ('Normal', 88), ('Diabetes', 155), ('Hipoglicemia', 52), ('Normal', 89), ('Normal', 73)]\n"
          ]
        }
      ],
      "source": [
        "glicemia = [129, 82, 60, 97, 101, 65, 62, 167, 87, 53, 58, 92, 66, 120, 109, 62, 86, 96, 103, 88, 155, 52, 89, 73]\n",
        "rotulos = [('Hipoglicemia', glicose) if glicose <= 70 else ('Normal', glicose) if glicose < 100 else ('Alterada', glicose) if glicose < 125 else ('Diabetes', glicose) for glicose in glicemia]\n",
        "print(rotulos)\n"
      ]
    },
    {
      "cell_type": "markdown",
      "metadata": {
        "id": "VfKzi6zbSA_e"
      },
      "source": [
        "## Exercicio 8\n",
        "8. Um e-commerce possui as informações de id de venda, quantidade vendida e preço do produto divididos nas seguintes listas:\n",
        "\n",
        "id = [0, 1, 2, 3, 4, 5, 6, 7, 8, 9]\n",
        "quantidade = [15, 12, 1, 15, 2, 11, 2, 12, 2, 4]\n",
        "preco = [93.0, 102.0, 18.0, 41.0, 122.0, 14.0, 71.0, 48.0, 14.0, 144.0]\n",
        "\n",
        "O e-commerce precisa estruturar esses dados em uma tabela contendo o valor total da venda, que é obtida multiplicando a quantidade pelo preço unitário. Além disso, a tabela precisa conter um cabeçalho indicando as colunas: 'id', 'quantidade', 'preco' e 'total'.\n",
        "\n",
        "Crie uma lista de tuplas em que cada tupla tenha id, quantidade, preço e valor total, na qual a primeira tupla é o cabeçalho da tabela."
      ]
    },
    {
      "cell_type": "code",
      "execution_count": 5,
      "metadata": {
        "colab": {
          "base_uri": "https://localhost:8080/"
        },
        "id": "44kciIdtSUlU",
        "outputId": "df79f135-cc30-4c0e-b3db-9486b104fa30"
      },
      "outputs": [
        {
          "name": "stdout",
          "output_type": "stream",
          "text": [
            "[('id', 'quantidade', 'preco', 'total'), (0, 15, 93.0, 1395.0), (1, 12, 102.0, 1224.0), (2, 1, 18.0, 18.0), (3, 15, 41.0, 615.0), (4, 2, 122.0, 244.0), (5, 11, 14.0, 154.0), (6, 2, 71.0, 142.0), (7, 12, 48.0, 576.0), (8, 2, 14.0, 28.0), (9, 4, 144.0, 576.0)]\n"
          ]
        }
      ],
      "source": [
        "id = [0, 1, 2, 3, 4, 5, 6, 7, 8, 9]\n",
        "quantidade = [15, 12, 1, 15, 2, 11, 2, 12, 2, 4]\n",
        "preco = [93.0, 102.0, 18.0, 41.0, 122.0, 14.0, 71.0, 48.0, 14.0, 144.0]\n",
        "tabela = [('id', 'quantidade', 'preco', 'total')]\n",
        "tabela += [(id[i], quantidade[i], preco[i], quantidade[i]*preco[i]) for i in range(len(id))]\n",
        "print(tabela)\n"
      ]
    },
    {
      "cell_type": "markdown",
      "metadata": {
        "id": "7iJZ6dvaSuq5"
      },
      "source": [
        "## Exercicio 9\n",
        "\n",
        "9. Uma empresa possui filiais espalhadas nos Estados da região Sudeste do Brasil. Em uma das tabelas de cadastro das filiais há uma coluna contendo a informação de qual é o Estado a que pertence: estados = ['SP', 'ES', 'MG', 'MG', 'SP', 'MG', 'ES', 'ES', 'ES', 'SP', 'SP', 'MG', 'ES', 'SP', 'RJ', 'MG', 'RJ', 'SP', 'MG', 'SP', 'ES', 'SP', 'MG'].\n",
        "\n",
        "A empresa sempre está abrindo novas filiais, de modo que a tabela está constantemente recebendo novos registros e o gestor gostaria de possuir a informação atualizada da quantidade de filiais em cada Estado.\n",
        "\n",
        "A partir da coluna com a informação dos Estados, crie um dicionário usando dict comprehension com a chave sendo o nome de um Estado e o valor sendo a contagem de vezes em que o Estado aparece na lista."
      ]
    },
    {
      "cell_type": "code",
      "execution_count": 7,
      "metadata": {
        "colab": {
          "base_uri": "https://localhost:8080/"
        },
        "id": "WI2sn1sAS3On",
        "outputId": "ecdc83e4-d76a-4369-dbdd-16d2ef58bb0d"
      },
      "outputs": [
        {
          "name": "stdout",
          "output_type": "stream",
          "text": [
            "[['ES', 'ES', 'ES', 'ES', 'ES', 'ES'], ['MG', 'MG', 'MG', 'MG', 'MG', 'MG', 'MG'], ['RJ', 'RJ'], ['SP', 'SP', 'SP', 'SP', 'SP', 'SP', 'SP', 'SP']]\n",
            "{'ES': 6, 'MG': 7, 'RJ': 2, 'SP': 8}\n"
          ]
        }
      ],
      "source": [
        "estados = ['SP', 'ES', 'MG', 'MG', 'SP', 'MG', 'ES', 'ES', 'ES', 'SP', 'SP', 'MG', 'ES', 'SP', 'RJ', 'MG', 'RJ', 'SP', 'MG', 'SP', 'ES', 'SP', 'MG']\n",
        "estados_unicos = list(set(estados))\n",
        "\n",
        "lista_de_listas = []\n",
        "for estado in estados_unicos:\n",
        "    lista = [uf for uf in estados if uf == estado]\n",
        "    lista_de_listas.append(lista)\n",
        "print(lista_de_listas)\n",
        "\n",
        "contagem_valores = {estados_unicos[i]: len(lista_de_listas[i]) for i in range(len(estados_unicos))}\n",
        "print(contagem_valores)"
      ]
    },
    {
      "attachments": {},
      "cell_type": "markdown",
      "metadata": {
        "id": "6867wnKCTP4E"
      },
      "source": [
        "# Exercicio 10\n",
        "\n",
        "10. Nessa mesma tabela de cadastro de filiais, há uma coluna com as informações da quantidade de pessoas colaboradoras e o(a) gestor(a) gostaria de ter um agrupamento da soma dessas pessoas para cada estado. As informações contidas na tabela são:\n",
        "\n",
        "funcionarios = [('SP', 16), ('ES', 8), ('MG', 9), ('MG', 6), ('SP', 10), ('MG', 4), ('ES',9), ('ES', 7), ('ES', 12), ('SP', 7), ('SP', 11), ('MG',8), ('ES',8), ('SP',9), ('RJ', 13), ('MG', 5), ('RJ', 9), ('SP', 12), ('MG', 10), ('SP', 7), ('ES', 14), ('SP', 10), ('MG', 12)]\n",
        "\n",
        "A partir da lista de tuplas, crie um dicionário em que as chaves são os nomes dos Estados únicos e os valores são as listas com o número de colaboradores(as) referentes ao Estado. Crie também um dicionário em que as chaves são os nomes dos Estados e os valores são a soma de colaboradores(as) por Estado.\n"
      ]
    },
    {
      "cell_type": "code",
      "execution_count": 8,
      "metadata": {
        "colab": {
          "base_uri": "https://localhost:8080/"
        },
        "id": "etv921CvTbj8",
        "outputId": "cca643a0-cf15-459f-9c43-0d4133773a11"
      },
      "outputs": [
        {
          "name": "stdout",
          "output_type": "stream",
          "text": [
            "[[8, 9, 7, 12, 8, 14], [9, 6, 4, 8, 5, 10, 12], [13, 9], [16, 10, 7, 11, 9, 12, 7, 10]]\n",
            "{'ES': [8, 9, 7, 12, 8, 14], 'MG': [9, 6, 4, 8, 5, 10, 12], 'RJ': [13, 9], 'SP': [16, 10, 7, 11, 9, 12, 7, 10]}\n",
            "{'ES': 58, 'MG': 54, 'RJ': 22, 'SP': 82}\n"
          ]
        }
      ],
      "source": [
        "funcionarios = [('SP', 16), ('ES', 8), ('MG', 9), ('MG', 6), ('SP', 10), ('MG', 4), ('ES',9), ('ES', 7), ('ES', 12), ('SP', 7), ('SP', 11), ('MG',8), ('ES',8), ('SP',9), ('RJ', 13), ('MG', 5), ('RJ', 9), ('SP', 12), ('MG', 10), ('SP', 7), ('ES', 14), ('SP', 10), ('MG', 12)]\n",
        "estados_unicos = list(set([tupla[0] for tupla in funcionarios]))\n",
        "\n",
        "lista_de_listas = []\n",
        "for estado in estados_unicos:\n",
        "    lista = [tupla[1] for tupla in funcionarios if tupla[0] == estado]\n",
        "    lista_de_listas.append(lista)\n",
        "print(lista_de_listas)\n",
        "\n",
        "agrupamento_por_estado = {estados_unicos[i]: lista_de_listas[i] for i in range(len(estados_unicos))}\n",
        "print(agrupamento_por_estado)\n",
        "soma_por_estado = {estados_unicos[i]: sum(lista_de_listas[i]) for i in range(len(estados_unicos))}\n",
        "print(soma_por_estado)\n"
      ]
    },
    {
      "cell_type": "code",
      "execution_count": null,
      "metadata": {
        "id": "tyHGGWYCTi3r"
      },
      "outputs": [],
      "source": []
    }
  ],
  "metadata": {
    "colab": {
      "provenance": []
    },
    "kernelspec": {
      "display_name": "Python 3",
      "language": "python",
      "name": "python3"
    },
    "language_info": {
      "name": "python",
      "version": "3.12.0 (tags/v3.12.0:0fb18b0, Oct  2 2023, 13:03:39) [MSC v.1935 64 bit (AMD64)]"
    },
    "vscode": {
      "interpreter": {
        "hash": "58cd16b22a53e8f225f4346339c6fbc90226716455e73ccb384283f30efeb411"
      }
    }
  },
  "nbformat": 4,
  "nbformat_minor": 0
}
