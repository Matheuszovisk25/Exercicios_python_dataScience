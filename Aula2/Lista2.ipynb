{
  "cells": [
    {
      "cell_type": "markdown",
      "metadata": {
        "id": "cz85qZaSDH-s"
      },
      "source": [
        "## Exercicio 1\n",
        "1. Escreva um código que lê a lista abaixo e faça:\n",
        "\n",
        "*   A leitura do tamanho da lista\n",
        "*   A leitura do maior e menor valor\n",
        "*   A soma dos valores da lista\n",
        "\n",
        "\n",
        "\n",
        "\n",
        "\n",
        "\n",
        "\n"
      ]
    },
    {
      "cell_type": "code",
      "execution_count": null,
      "metadata": {
        "id": "l_CwuVOHoRr1"
      },
      "outputs": [],
      "source": [
        "lista = [16, 14, 63, 65, 17, 99, 70, 11, 20, 48, 79, 32, 17, 89, 12, 25, 66]\n",
        "#A leitura do tamanho da lista\n",
        "tamanho = len(lista)"
      ]
    },
    {
      "cell_type": "code",
      "execution_count": null,
      "metadata": {
        "id": "OeCL-LQJoXqk"
      },
      "outputs": [],
      "source": [
        "#A leitura do maior e menor valor\n",
        "minimo = min(lista)"
      ]
    },
    {
      "cell_type": "code",
      "execution_count": null,
      "metadata": {
        "id": "29D6LG9yofiP"
      },
      "outputs": [],
      "source": [
        "#A leitura do maior e menor valor\n",
        "maximo = max(lista)"
      ]
    },
    {
      "cell_type": "code",
      "execution_count": null,
      "metadata": {
        "id": "NFGCNjo6oc6l"
      },
      "outputs": [],
      "source": [
        "#A soma dos valores da lista\n",
        "soma = sum(lista)"
      ]
    },
    {
      "cell_type": "code",
      "execution_count": null,
      "metadata": {
        "colab": {
          "base_uri": "https://localhost:8080/"
        },
        "id": "C89f3-g_rMSZ",
        "outputId": "e475383e-6246-412c-e580-dfa09f852201"
      },
      "outputs": [
        {
          "name": "stdout",
          "output_type": "stream",
          "text": [
            "Possui 17 números em que o maior numero é 99 e o menor numero é 11. A soma dos valores presentes nela é igual a 743\n"
          ]
        }
      ],
      "source": [
        "#Ao final exiba uma mensagem dizendo:\n",
        "print(f'Possui {tamanho} números em que o maior numero é {maximo} e o menor numero é {minimo}. A soma dos valores presentes nela é igual a {soma}')"
      ]
    },
    {
      "cell_type": "markdown",
      "metadata": {
        "id": "6zLdiNbPDiu2"
      },
      "source": [
        "## Exercicio 2\n",
        "2. Escreva uma função que gere a tabuada de um número inteiro de 1 a 10, de acordo com a escolha da pessoa usuária."
      ]
    },
    {
      "cell_type": "code",
      "execution_count": null,
      "metadata": {
        "colab": {
          "base_uri": "https://localhost:8080/"
        },
        "id": "p4-pHR-rr_6n",
        "outputId": "82e81ad5-fd93-4760-e29b-870a5e4f465e"
      },
      "outputs": [
        {
          "name": "stdout",
          "output_type": "stream",
          "text": [
            "5 x 0 = 0\n",
            "5 x 1 = 5\n",
            "5 x 2 = 10\n",
            "5 x 3 = 15\n",
            "5 x 4 = 20\n",
            "5 x 5 = 25\n",
            "5 x 6 = 30\n",
            "5 x 7 = 35\n",
            "5 x 8 = 40\n",
            "5 x 9 = 45\n",
            "5 x 10 = 50\n"
          ]
        }
      ],
      "source": [
        "def tabu(x):\n",
        "  for i in range(0,11):\n",
        "    print(f'{x} x {i} = {x*i}')\n",
        "    \n",
        "tabu(5)"
      ]
    },
    {
      "attachments": {},
      "cell_type": "markdown",
      "metadata": {
        "id": "Sr6ks-iSD0bs"
      },
      "source": [
        "# Exercicio 3\n",
        "3. Crie a função que leia a lista abaixo e retorne uma nova lista com os múltiplos de 3:"
      ]
    },
    {
      "cell_type": "code",
      "execution_count": null,
      "metadata": {
        "colab": {
          "base_uri": "https://localhost:8080/"
        },
        "id": "uv9ZjJxOuqy-",
        "outputId": "b95a48ca-41e2-4795-e834-c3b4bcbe1ac9"
      },
      "outputs": [
        {
          "name": "stdout",
          "output_type": "stream",
          "text": [
            "[24, 99]\n"
          ]
        }
      ],
      "source": [
        "def mult():\n",
        "  lista = [97, 80, 94, 88, 80, 1, 16, 53, 62, 32, 24,99]\n",
        "  mult3 = []\n",
        "  for i in lista:\n",
        "    if i % 3 == 0:\n",
        "      mult3.append(i)\n",
        "    else:\n",
        "      pass\n",
        "\n",
        "  return mult3\n",
        "teste = mult()\n",
        "print(teste)"
      ]
    },
    {
      "attachments": {},
      "cell_type": "markdown",
      "metadata": {
        "id": "o3cxdTbjEBDX"
      },
      "source": [
        "# Exercicio 4\n",
        "4. Crie uma lista dos quadrados dos números da seguinte lista [1, 2, 3, 4, 5, 6, 7, 8, 9, 10].\n",
        "Lembre-se de utilizar as funções lambda e map() para calcular o quadrado de cada elemento da lista."
      ]
    },
    {
      "cell_type": "code",
      "execution_count": null,
      "metadata": {
        "colab": {
          "base_uri": "https://localhost:8080/"
        },
        "id": "VrnjBjNnwGtp",
        "outputId": "108e2af4-cbfe-4fb3-da3b-5f88124b6e92"
      },
      "outputs": [
        {
          "name": "stdout",
          "output_type": "stream",
          "text": [
            "[1, 4, 9, 16, 25, 36, 49, 64, 81, 100]\n"
          ]
        }
      ],
      "source": [
        "lista = [1, 2, 3, 4, 5, 6, 7, 8, 9, 10]\n",
        "lamb = list(map(lambda x: x**2, lista))\n",
        "print(lamb)"
      ]
    },
    {
      "cell_type": "markdown",
      "metadata": {
        "id": "fTAk-TsUFE67"
      },
      "source": [
        "## Exercicio 5\n",
        "5. Você foi contratado(a) como cientista de dados de uma associação de skate. Para analisar as notas recebidas de skatistas em algumas competições\n",
        "ao longo do ano, você precisa criar um código que calcula a pontuação dos(as) atletas. Para isso, o seu código deve receber 5 notas digitadas pelas\n",
        "pessoas juradas.\n",
        "\n",
        "Para calcular a pontuação de um(a) skatista, você precisa eliminar a maior e a menor pontuação dentre as 5 notas e tirar a média das 3 notas que sobraram.\n",
        "\n"
      ]
    },
    {
      "cell_type": "code",
      "execution_count": 2,
      "metadata": {
        "colab": {
          "base_uri": "https://localhost:8080/"
        },
        "id": "CWqcwxYRyBIx",
        "outputId": "19e624d2-389f-4e77-ae47-5a3a0c9c4cb7"
      },
      "outputs": [
        {
          "name": "stdout",
          "output_type": "stream",
          "text": [
            "Digite a 1ª nota: 10\n",
            "Digite a 2ª nota: 20\n",
            "Digite a 3ª nota: 1\n",
            "Digite a 4ª nota: 2\n",
            "Digite a 5ª nota: 5\n",
            "Nota da manobra: 5.7\n"
          ]
        }
      ],
      "source": [
        "notas = []\n",
        "for i in range(1,6):\n",
        "  nota = float(input(f\"Digite a {i}ª nota: \"))\n",
        "  notas.append(nota)\n",
        "\n",
        "def media(lista):\n",
        "  lista.remove(max(lista))\n",
        "  lista.remove(min(lista))\n",
        "  return sum(lista) / len(lista)\n",
        "\n",
        "media = media(notas)\n",
        "print(f\"Nota da manobra: {round(media, 1)}\")"
      ]
    },
    {
      "cell_type": "markdown",
      "metadata": {
        "id": "b7fLn-SoaIry"
      },
      "source": [
        "## Exercicio 6\n",
        "6. Para atender a uma demanda de uma instituição de ensino para a análise do desempenho de seus(suas) estudantes,\n",
        "você precisa criar uma função que receba uma lista de 4 notas e retorne:\n",
        "\n",
        "maior nota\n",
        "menor nota\n",
        "média\n",
        "situação (Aprovado(a) ou Reprovado(a))\n",
        "Para testar o comportamento da função, os dados podem ser exibidos em um texto:\n",
        "\n",
        "\"O(a) estudante obteve uma média de [media], com a sua maior nota de [maior] pontos e a menor nota de [menor] pontos e foi [situacao]\"\n"
      ]
    },
    {
      "cell_type": "code",
      "execution_count": null,
      "metadata": {
        "colab": {
          "base_uri": "https://localhost:8080/"
        },
        "id": "cQKKkKTYXshz",
        "outputId": "83d7be70-bd66-4693-fd27-223048f12b66"
      },
      "outputs": [
        {
          "name": "stdout",
          "output_type": "stream",
          "text": [
            "Informe a 1 nota10\n",
            "Informe a 2 nota10\n",
            "Informe a 3 nota10\n",
            "Informe a 4 nota10\n",
            "O(a) estudante obteve uma média de 10.0, com sua maior nota de 10.0 pontos e a menor nota de 10.0, pontos e foi aprovado\n"
          ]
        }
      ],
      "source": [
        "lista = []\n",
        "i = 0\n",
        "while len(lista) < 4:\n",
        "  lista.append(float(input(f'Informe a {i+1} nota')))\n",
        "  i+=1\n",
        "\n",
        "media = sum(lista) / len(lista)\n",
        "\n",
        "if media >= 6:\n",
        "  print(f'O(a) estudante obteve uma média de {sum(lista)/len(lista)}, com sua maior nota de {max(lista)} pontos e a menor nota de {min(lista)}, pontos e foi aprovado')\n",
        "else:\n",
        "  print(f'O(a) estudante obteve uma média de {sum(lista)/len(lista)}, com sua maior nota de {max(lista)} pontos e a menor nota de {min(lista)}, pontos e foi reprovado')"
      ]
    },
    {
      "cell_type": "markdown",
      "metadata": {
        "id": "hd2BexVYfBaF"
      },
      "source": [
        "## Exercicio 7\n",
        "7. Você recebeu uma demanda para tratar 2 listas com os nomes e sobrenomes de cada estudante concatenando-as para apresentar seus nomes completos\n",
        "na forma Nome Sobrenome. As listas são:\n",
        "\n",
        "nomes = [\"joão\", \"MaRia\", \"JOSÉ\"]\n",
        "sobrenomes = [\"SILVA\", \"souza\", \"Tavares\"]\n",
        "\n",
        "\n"
      ]
    },
    {
      "cell_type": "code",
      "execution_count": 3,
      "metadata": {
        "colab": {
          "base_uri": "https://localhost:8080/"
        },
        "id": "t0mP8Q8ppdex",
        "outputId": "8fb79ef8-5839-4144-9ca5-ce4b138a05c8"
      },
      "outputs": [
        {
          "name": "stdout",
          "output_type": "stream",
          "text": [
            "Nome completo: joão Silva\n",
            "Nome completo: Maria Souza\n",
            "Nome completo: José Tavares\n"
          ]
        }
      ],
      "source": [
        "nomes = [\"joão\", \"Maria\", \"José\"]\n",
        "sobrenomes = [\"Silva\", \"Souza\", \"Tavares\"]\n",
        "resultado = list(map(lambda x, y: x + \" \" + y, nomes, sobrenomes))\n",
        "\n",
        "for i in resultado:\n",
        "  print(f'Nome completo: {i}')"
      ]
    },
    {
      "cell_type": "markdown",
      "metadata": {
        "id": "HiqWD7Snfe-3"
      },
      "source": [
        "## Exercicio 8\n",
        "8. Como cientista de dados em um time de futebol, você precisa implementar novas formas de coleta de dados sobre o desempenho de jogadores e do time\n",
        "como um todo. Sua primeira ação é criar uma forma de calcular a pontuação do time no campeonato nacional a partir dos dados de gols marcados\n",
        "e sofridos em cada jogo.\n",
        "\n",
        "Escreva uma função chamada calcula_pontos que recebe como parâmetros duas listas de números inteiros,\n",
        "representando os gols marcados e sofridos pelo time em cada partida do campeonato. A função deve retornar a pontuação do time e o aproveitamento em percentual,\n",
        "levando em consideração que a vitória vale 3 pontos, o empate vale 1 ponto e a derrota 0 pontos."
      ]
    },
    {
      "cell_type": "code",
      "execution_count": null,
      "metadata": {
        "colab": {
          "base_uri": "https://localhost:8080/"
        },
        "id": "N4Jx3CcoxUA-",
        "outputId": "8d2a4ebb-7b96-4b97-c9a9-5265c2b91e8b"
      },
      "outputs": [
        {
          "name": "stdout",
          "output_type": "stream",
          "text": [
            "A pontuação do time foi de 7 e seu aproveitamento foi de 47%\n"
          ]
        }
      ],
      "source": [
        "\n",
        "gols_marcados = [2, 1, 3, 1, 0]\n",
        "gols_sofridos = [1, 2, 2, 1, 3]\n",
        "\n",
        "def calcula_pontos(gols_marcados, gols_sofridos):\n",
        "  pontos = 0\n",
        "  for i in range(len(gols_marcados)):\n",
        "    if gols_marcados[i] > gols_sofridos[i]:\n",
        "      pontos += 3\n",
        "    elif gols_marcados[i] == gols_sofridos[i]:\n",
        "      pontos += 1\n",
        "\n",
        "  aprov = 100 * pontos / (len(gols_marcados) * 3)\n",
        "  return (pontos, aprov)\n",
        "\n",
        "\n",
        "pontos, aprov = calcula_pontos(gols_marcados, gols_sofridos)\n",
        "print(f\"A pontuação do time foi de {pontos} e seu aproveitamento foi de {round(aprov)}%\")\n"
      ]
    },
    {
      "cell_type": "markdown",
      "metadata": {
        "id": "00GPKZMFirEV"
      },
      "source": [
        "## Exercicio 9\n",
        "9. Você recebeu o desafio de criar um código que calcula os gastos de uma viagem para um das quatro cidades partindo de Recife, sendo elas: Salvador, Fortaleza, Natal e Aracaju.\n",
        "\n",
        "O custo da diária do hotel é de 150 reais em todas elas e o consumo de gasolina na viagem de carro é de 14 km/l, sendo que o valor da gasolina é de 5 reais o litro. O gastos com passeios e alimentação a se fazer em cada uma delas por dia seria de [200, 400, 250, 300], respectivamente.\n",
        "\n",
        "Sabendo que as distâncias entre Recife e cada uma das cidades é de aproximadamente [850, 800, 300, 550] km, crie três funções nas quais: a 1ª função calcule os gastos com hotel (gasto_hotel), a 2ª calcule os gastos com a gasolina (gasto_gasolina) e a 3ª os gastos com passeio e alimentação (gasto_passeio).\n",
        "\n",
        "Para testar, simule uma viagem de 3 dias para Salvador partindo de Recife. Considere a viagem de ida e volta de carro."
      ]
    },
    {
      "cell_type": "code",
      "execution_count": null,
      "metadata": {
        "colab": {
          "base_uri": "https://localhost:8080/"
        },
        "id": "yAakSSdt7S1p",
        "outputId": "de2a1133-c12c-4854-c2fd-ff22c954f49f"
      },
      "outputs": [
        {
          "name": "stdout",
          "output_type": "stream",
          "text": [
            "Escolha umna cidade: fortaleza\n",
            "Informe a quantidade de dias: 2\n",
            "Com base nos gastos definidos, uma viagem de 2 dias para fortaleza saindo de Recife custaria 1385.71\n"
          ]
        }
      ],
      "source": [
        "\n",
        "\n",
        "cidade = input(\"Escolha umna cidade: \")\n",
        "dias = int(input(\"Informe a quantidade de dias: \"))\n",
        "\n",
        "gastos = [200, 400, 250, 300]\n",
        "distancias = [850, 800, 300, 550]\n",
        "\n",
        "\n",
        "def gasto_gasolina():\n",
        "  if cidade == \"salvador\":\n",
        "    return distancias[0] * 5 / 14\n",
        "  elif cidade == \"fortaleza\":\n",
        "    return distancias[1] * 5 / 14\n",
        "  elif cidade == \"Natal\":\n",
        "    return distancias[2] * 5 / 14\n",
        "  else:\n",
        "    return distancias[3] * 5 / 14\n",
        "\n",
        "def gasto_hotel():\n",
        "  return 150 * dias\n",
        "\n",
        "def gasto_passeio():\n",
        "  if cidade == \"salvador\":\n",
        "    return gastos[0] * dias\n",
        "  elif cidade == \"fortaleza\":\n",
        "    return gastos[1] * dias\n",
        "  elif cidade == \"Natal\":\n",
        "    return gastos[2] * dias\n",
        "  else:\n",
        "    return gastos[3] * dias\n",
        "\n",
        "teste1 = gasto_passeio()\n",
        "teste2 = gasto_gasolina()\n",
        "teste3 = gasto_hotel()\n",
        "\n",
        "gastos = teste1 + teste2 + teste3\n",
        "\n",
        "print(f'Com base nos gastos definidos, uma viagem de {dias} dias para {cidade} saindo de Recife custaria {round(gastos, 2)}')\n"
      ]
    },
    {
      "cell_type": "markdown",
      "metadata": {
        "id": "_7tfLqe7jE6n"
      },
      "source": [
        "## Exercicio 10\n",
        "10. Você iniciou um estágio em uma empresa que trabalha com processamento de linguagem natural (NLP).\n",
        "Sua líder requisitou que você criasse um trecho de código que recebe uma frase digitada pela pessoa usuária e filtre apenas as palavras com tamanho maior\n",
        "ou igual a 5, exibindo-as em uma lista. Essa demanda é voltada para a análise do padrão de comportamento de pessoas na escrita de palavras acima\n",
        "dessa quantidade de caracteres.\n",
        "\n",
        "\n",
        "Requisitando uma frase e separando-a pelos espaços. Usando replace para trocar\n",
        "pontuações por espaço."
      ]
    },
    {
      "cell_type": "code",
      "execution_count": 5,
      "metadata": {
        "colab": {
          "base_uri": "https://localhost:8080/"
        },
        "id": "CWC-EmdSt2Lr",
        "outputId": "0a69c39e-4c4c-4534-b778-f1e022f3683d"
      },
      "outputs": [
        {
          "name": "stdout",
          "output_type": "stream",
          "text": [
            "Digite uma frase: matheus pereira\n",
            "['matheus', 'pereira']\n"
          ]
        }
      ],
      "source": [
        "frase = input(\"Digite uma frase: \")\n",
        "frase = frase.replace(',',' ').replace('.',' ').replace('!',' ').replace('?',' ').split()\n",
        "tamanho = list(filter(lambda x: len(x) >= 5, frase))\n",
        "print(tamanho)\n"
      ]
    },
    {
      "cell_type": "code",
      "execution_count": null,
      "metadata": {
        "id": "QzDRT_TbzhIe"
      },
      "outputs": [],
      "source": []
    }
  ],
  "metadata": {
    "colab": {
      "provenance": []
    },
    "kernelspec": {
      "display_name": "Python 3",
      "language": "python",
      "name": "python3"
    },
    "language_info": {
      "name": "python",
      "version": "3.12.0 (tags/v3.12.0:0fb18b0, Oct  2 2023, 13:03:39) [MSC v.1935 64 bit (AMD64)]"
    },
    "vscode": {
      "interpreter": {
        "hash": "58cd16b22a53e8f225f4346339c6fbc90226716455e73ccb384283f30efeb411"
      }
    }
  },
  "nbformat": 4,
  "nbformat_minor": 0
}
