{
  "cells": [
    {
      "cell_type": "markdown",
      "metadata": {
        "id": "hMTtMBSG8Fhc"
      },
      "source": [
        "## Exercicio1\n",
        "1. Um programa deve ser escrito para sortear uma pessoa seguidora de uma rede social para ganhar um prêmio. A lista de participantes é numerada e devemos escolher aleatoriamente um número de acordo com a quantidade de participantes. Peça à pessoa usuária para fornecer o número de participantes do sorteio e devolva para ela o número sorteado."
      ]
    },
    {
      "cell_type": "code",
      "execution_count": 3,
      "metadata": {
        "colab": {
          "base_uri": "https://localhost:8080/"
        },
        "id": "mSHeTqqw7220",
        "outputId": "30252706-6990-4dd5-fd41-436766d528e0"
      },
      "outputs": [
        {
          "name": "stdout",
          "output_type": "stream",
          "text": [
            "O número sorteado foi 6\n"
          ]
        }
      ],
      "source": [
        "from random import randint\n",
        "n = int(input(\"Digite o nº de participantes do sorteio: \"))\n",
        "print(f\"O número sorteado foi {randint(1, n)}\")"
      ]
    },
    {
      "cell_type": "markdown",
      "metadata": {
        "id": "l-2iFHC88Pfo"
      },
      "source": [
        "## Exercicio 2\n",
        "2. Você recebeu uma demanda para gerar números de token para acessar o aplicativo de uma empresa. O token precisa ser par e variar de 1000 até 9998. Escreva um código que solicita à pessoa usuária o seu nome e exibe uma mensagem junto a esse token gerado aleatoriamente."
      ]
    },
    {
      "cell_type": "code",
      "execution_count": 4,
      "metadata": {
        "colab": {
          "base_uri": "https://localhost:8080/"
        },
        "id": "l7zWR3UZ99og",
        "outputId": "849ea003-33da-4a39-a756-e7f4541a60e7"
      },
      "outputs": [
        {
          "name": "stdout",
          "output_type": "stream",
          "text": [
            "Olá, matheus, o seu token de acesso é 5144! Seja bem-vindo(a)!\n"
          ]
        }
      ],
      "source": [
        "from random import randrange\n",
        "\n",
        "nome = input(\"Qual o seu nome? \")\n",
        "token = randrange(1000, 10000, 2)\n",
        "\n",
        "print(f\"Olá, {nome}, o seu token de acesso é {token}! Seja bem-vindo(a)!\")\n"
      ]
    },
    {
      "cell_type": "markdown",
      "metadata": {
        "id": "9ou-S4968gkE"
      },
      "source": [
        "## Exercicio 3\n",
        "3. Para diversificar e atrair novos(as) clientes, uma lanchonete criou um item misterioso em seu cardápio chamado \"salada de frutas surpresa\". Neste item, são escolhidas aleatoriamente 3 frutas de uma lista de 12 para compor a salada de frutas da pessoa cliente. Crie o código que faça essa seleção aleatória de acordo com a lista abaixo:"
      ]
    },
    {
      "cell_type": "code",
      "execution_count": 5,
      "metadata": {
        "colab": {
          "base_uri": "https://localhost:8080/"
        },
        "id": "H1auKnm0-Ibm",
        "outputId": "6a053267-bbd1-4f74-a784-b79dae8547a3"
      },
      "outputs": [
        {
          "name": "stdout",
          "output_type": "stream",
          "text": [
            "A salada surpresa é: pêra, kiwi e banana\n"
          ]
        }
      ],
      "source": [
        "from random import choices\n",
        "\n",
        "\n",
        "frutas = [\"maçã\", \"banana\", \"uva\", \"pêra\",\"manga\", \"coco\",\n",
        "          \"melancia\", \"mamão\", \"laranja\", \"abacaxi\", \"kiwi\", \"ameixa\"]\n",
        "\n",
        "salada = choices(frutas, k=3)\n",
        "print(f\"A salada surpresa é: {salada[0]}, {salada[1]} e {salada[2]}\")\n"
      ]
    },
    {
      "cell_type": "markdown",
      "metadata": {
        "id": "SQBFrO-c8qsE"
      },
      "source": [
        "## Exercicio 4\n",
        "\n",
        "4. Você recebeu um desafio de calcular a raiz quadrada de uma lista de números, identificando quais resultaram em um número inteiro. A lista é a seguinte:\n",
        "numeros = [2, 8, 15, 23, 91, 112, 256]\n",
        "\n",
        "No final, informe quais números possuem raízes inteiras e seus respectivos valores."
      ]
    },
    {
      "cell_type": "code",
      "execution_count": 6,
      "metadata": {
        "colab": {
          "base_uri": "https://localhost:8080/"
        },
        "id": "RabCH5Ge-lDH",
        "outputId": "eaa69b06-4cfe-4bbe-948c-a0d51f48b407"
      },
      "outputs": [
        {
          "name": "stdout",
          "output_type": "stream",
          "text": [
            "O número 256 possui raiz quadrada inteira igual a 16\n"
          ]
        }
      ],
      "source": [
        "from math import sqrt\n",
        "\n",
        "numeros = [2, 8, 15, 23, 91, 112, 256]\n",
        "raiz = []\n",
        "\n",
        "\n",
        "for numero in numeros:\n",
        "  raiz.append(sqrt(numero))\n",
        "\n",
        "for i in range(len(raiz)):\n",
        "  if raiz[i] // 1 == raiz[i]:\n",
        "    print(f\"O número {numeros[i]} possui raiz quadrada inteira igual a {int(raiz[i])}\")\n"
      ]
    },
    {
      "cell_type": "markdown",
      "metadata": {
        "id": "pdXidTx29WJ7"
      },
      "source": [
        "## Exercicio 5\n",
        "5. Faça um programa para uma loja que vende grama para jardins. Essa loja trabalha com jardins circulares e o preço do metro quadrado da grama é de R$ 25,00. Peça à pessoa usuária o raio da área circular e devolva o valor em reais do quanto precisará pagar.\n",
        "\n"
      ]
    },
    {
      "cell_type": "code",
      "execution_count": 7,
      "metadata": {
        "colab": {
          "base_uri": "https://localhost:8080/"
        },
        "id": "zuelxBWMALLZ",
        "outputId": "5c81ddd2-6bd2-4610-a68c-88a0da6baaa0"
      },
      "outputs": [
        {
          "name": "stdout",
          "output_type": "stream",
          "text": [
            "Você precisará pagar R$ 49087.39 por uma área de 1963.5 metros de grama\n"
          ]
        }
      ],
      "source": [
        "from math import pi, pow\n",
        "\n",
        "raio = float(input(\"Digite o raio da área circular em metros: \"))\n",
        "area = pi*pow(raio,2)\n",
        "valor = area * 25.00\n",
        "\n",
        "print(f\"Você precisará pagar R$ {round(valor,2)} por uma área de {round(area,2)} metros de grama\")\n"
      ]
    }
  ],
  "metadata": {
    "colab": {
      "provenance": []
    },
    "kernelspec": {
      "display_name": "Python 3",
      "language": "python",
      "name": "python3"
    },
    "language_info": {
      "codemirror_mode": {
        "name": "ipython",
        "version": 3
      },
      "file_extension": ".py",
      "mimetype": "text/x-python",
      "name": "python",
      "nbconvert_exporter": "python",
      "pygments_lexer": "ipython3",
      "version": "3.12.0"
    },
    "vscode": {
      "interpreter": {
        "hash": "58cd16b22a53e8f225f4346339c6fbc90226716455e73ccb384283f30efeb411"
      }
    }
  },
  "nbformat": 4,
  "nbformat_minor": 0
}
